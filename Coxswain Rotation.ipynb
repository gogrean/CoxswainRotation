{
 "cells": [
  {
   "cell_type": "markdown",
   "metadata": {
    "collapsed": true
   },
   "source": [
    "# Coxswain Rotation"
   ]
  },
  {
   "cell_type": "markdown",
   "metadata": {},
   "source": [
    "The code here figures out whose turn is to cox for the LMRC Mixed Masters team. It uses the TeamSnap API to retrieve the list of members available for an event, compares this list against the list of dates when each member last coxed, and then orders the available members by the date they last coxed."
   ]
  },
  {
   "cell_type": "markdown",
   "metadata": {},
   "source": [
    "The following Python packages are required to run the full notebook:\n",
    "\n",
    "`yaml\n",
    "requests\n",
    "pandas\n",
    "Levenshtein\n",
    "tabulate`"
   ]
  },
  {
   "cell_type": "markdown",
   "metadata": {},
   "source": [
    "The code was only tested in Python 3..."
   ]
  },
  {
   "cell_type": "code",
   "execution_count": null,
   "metadata": {
    "collapsed": true
   },
   "outputs": [],
   "source": [
    "# This should be the only part of the code that needs to be changed.\n",
    "# The event ID is listed in the address bar when opening the event page \n",
    "# on TeamSnap. If there is an easier way to get the ID of the next event, \n",
    "# I have not figured it out yet...\n",
    "\n",
    "EVENT_ID = 15880077"
   ]
  },
  {
   "cell_type": "markdown",
   "metadata": {},
   "source": [
    "## Retrieve List of Available Team Members"
   ]
  },
  {
   "cell_type": "markdown",
   "metadata": {},
   "source": [
    "Here is a summary of how to generate the required credentials and access the API:\n",
    "\n",
    "http://developer.teamsnap.com/documentation/apiv3/authorization/#token-authentication-flow"
   ]
  },
  {
   "cell_type": "markdown",
   "metadata": {},
   "source": [
    "### Generate Authentication URL for the TeamSnap API"
   ]
  },
  {
   "cell_type": "code",
   "execution_count": null,
   "metadata": {
    "collapsed": false
   },
   "outputs": [],
   "source": [
    "import yaml\n",
    "\n",
    "with open(\"credentials/cred.yml\") as f:\n",
    "    cred = yaml.load(f)\n",
    "client_id = cred['client_id']\n",
    "secret = cred['secret']\n",
    "uri = cred['callback_uri']\n",
    "\n",
    "RESPONSE_TYPE = 'token'\n",
    "AUTHORIZATION_URL = \"https://auth.teamsnap.com/oauth/authorize\"\n",
    "\n",
    "# Build URL\n",
    "authentication_url = AUTHORIZATION_URL + \\\n",
    "                     \"?client_id=\" + client_id + \\\n",
    "                     \"&redirect_uri=\" + uri + \\\n",
    "                     \"&response_type=\" + RESPONSE_TYPE + \\\n",
    "                     \"&scope=read\""
   ]
  },
  {
   "cell_type": "code",
   "execution_count": null,
   "metadata": {
    "collapsed": false
   },
   "outputs": [],
   "source": [
    "print(\"\"\"Visit the URL below. You will be redirected to a web page \n",
    "containing basic information about the application. In the HTML\n",
    "address of the page, you will see a long token listed after \n",
    "'access_token='. Copy this token and use it for the next step.\\n\"\"\")\n",
    "print(authentication_url)"
   ]
  },
  {
   "cell_type": "markdown",
   "metadata": {},
   "source": [
    "### List Available Members"
   ]
  },
  {
   "cell_type": "markdown",
   "metadata": {},
   "source": [
    "The token obtained in the previous step is read from the YAML file `credentials/cred.yml`. Just like the other credentials, the token should not be made public, so do not include it in this code. Modify the YAML file as necessary. The token is used to retrieve data via the API."
   ]
  },
  {
   "cell_type": "markdown",
   "metadata": {},
   "source": [
    "The list of available members only associates availability with the member ID, rather than with the member name. To connect the name with the availability status, I first retrieve the list of team members (connects name with member ID) and only then the list of availabilities (connects member ID with availability status)."
   ]
  },
  {
   "cell_type": "code",
   "execution_count": null,
   "metadata": {
    "collapsed": true
   },
   "outputs": [],
   "source": [
    "import requests\n",
    "\n",
    "oauth_token = cred['oauth_token']"
   ]
  },
  {
   "cell_type": "markdown",
   "metadata": {},
   "source": [
    "#### Get Member List"
   ]
  },
  {
   "cell_type": "code",
   "execution_count": null,
   "metadata": {
    "collapsed": false
   },
   "outputs": [],
   "source": [
    "# Read the team ID from the YAML file. \n",
    "TEAM_ID = cred['team_id']\n",
    "\n",
    "# Retrieve the member list as JSON.\n",
    "url = 'https://api.teamsnap.com/v3/members/search?team_id=' + str(TEAM_ID)\n",
    "headers = {'Content-Type': 'application/json', \n",
    "           'Accept-Charset': 'UTF-8', \n",
    "           'Authorization': 'Bearer ' + oauth_token}\n",
    "json_req = requests.get(url, headers=headers).json()"
   ]
  },
  {
   "cell_type": "code",
   "execution_count": null,
   "metadata": {
    "collapsed": false
   },
   "outputs": [],
   "source": [
    "# Add the members to a dictionary. The dictionary will \n",
    "# be indexed by member ID, and each (unique) member ID \n",
    "# is associated with a member name. \n",
    "\n",
    "member_dict = {}\n",
    "n_team_members = len(json_req['collection']['items'])\n",
    "for i_user in range(n_team_members):\n",
    "    member_id = json_req['collection']['items'][i_user]['data'][0]['value']\n",
    "    name = json_req['collection']['items'][i_user]['data'][9]['value'] + ' ' + \\\n",
    "           json_req['collection']['items'][i_user]['data'][32]['value']\n",
    "    # Fix issues with multiple/trailing spaces in some TeamSnap entries.\n",
    "    member_dict[member_id] = ' '.join(name.split())"
   ]
  },
  {
   "cell_type": "markdown",
   "metadata": {},
   "source": [
    "#### Get List of Available Members"
   ]
  },
  {
   "cell_type": "code",
   "execution_count": null,
   "metadata": {
    "collapsed": false
   },
   "outputs": [],
   "source": [
    "# Retrieve the list of available members as JSON.\n",
    "url = 'https://api.teamsnap.com/v3/availabilities/search?team_id=' + str(TEAM_ID) + \\\n",
    "      '&event_id=' + str(EVENT_ID)\n",
    "headers = {'Content-Type': 'application/json', \n",
    "           'Accept-Charset': 'UTF-8', \n",
    "           'Authorization': 'Bearer ' + oauth_token}\n",
    "json_req = requests.get(url, headers=headers).json()"
   ]
  },
  {
   "cell_type": "code",
   "execution_count": null,
   "metadata": {
    "collapsed": false
   },
   "outputs": [],
   "source": [
    "# Connect the list of available members with the member names, \n",
    "# and add the available names to a dictionary. The dictionary \n",
    "# is indexed by availability status, and only members that \n",
    "# replied with 'Yes' or 'Maybe' are included.\n",
    "\n",
    "availability_dict = {'available': [], 'maybe': []}\n",
    "for i_user in range(n_team_members):\n",
    "    member_id = json_req['collection']['items'][i_user]['data'][3]['value']\n",
    "    availability = json_req['collection']['items'][i_user]['data'][6]['value']\n",
    "    if availability == \"Yes. I will be there.\":\n",
    "        availability_dict['available'].append(member_dict[member_id])\n",
    "    elif availability == \"Maybe. I'm not sure yet.\":\n",
    "        availability_dict['maybe'].append(member_dict[member_id])"
   ]
  },
  {
   "cell_type": "markdown",
   "metadata": {},
   "source": [
    "Print the list of members coming to practice."
   ]
  },
  {
   "cell_type": "code",
   "execution_count": null,
   "metadata": {
    "collapsed": false
   },
   "outputs": [],
   "source": [
    "available_members = sorted(availability_dict['available'])\n",
    "maybes_members = sorted(availability_dict['maybe'])\n",
    "\n",
    "n_available = len(available_members)\n",
    "print(\"\\n\".join(available_members))\n",
    "print(\"\\n\" + str(n_available) + \" team members available for practice.\\n\\n\")\n",
    "\n",
    "print(\"\\n\".join(maybes_members))\n",
    "n_maybes = len(maybes_members)\n",
    "print(\"\\n\" + str(n_maybes) + \" team members might also come for practice.\\n\\n\")"
   ]
  },
  {
   "cell_type": "markdown",
   "metadata": {},
   "source": [
    "## Who's Next?"
   ]
  },
  {
   "cell_type": "code",
   "execution_count": null,
   "metadata": {
    "collapsed": true
   },
   "outputs": [],
   "source": [
    "from datetime import datetime as dt\n",
    "import pandas as pd\n",
    "from Levenshtein import jaro"
   ]
  },
  {
   "cell_type": "markdown",
   "metadata": {},
   "source": [
    "### Get List of Last Coxing Dates"
   ]
  },
  {
   "cell_type": "code",
   "execution_count": null,
   "metadata": {
    "collapsed": false
   },
   "outputs": [],
   "source": [
    "coxswain_data = pd.read_csv(\"coxswain_rotation.csv\", header=0, index_col='Name')\n",
    "coxswain_data['Date'] = pd.to_datetime(coxswain_data['Date'], format='%m/%d/%y')\n",
    "\n",
    "# Some names might be badly formatted, so things like trailing spaces, \n",
    "# nicknames, and typos should be checked for.\n",
    "\n",
    "# Remove trailing spaces.\n",
    "coxswain_data.index = coxswain_data.index.str.strip().str.replace('  ', ' ')"
   ]
  },
  {
   "cell_type": "markdown",
   "metadata": {},
   "source": [
    "### Get Most Recent Coxing Dates of Available Members"
   ]
  },
  {
   "cell_type": "code",
   "execution_count": null,
   "metadata": {
    "collapsed": false
   },
   "outputs": [],
   "source": [
    "def get_cox_dates(members, coxswain_data):\n",
    "    '''Return most recent dates when team members coxed.'''\n",
    "    cox_dates = {}\n",
    "    for name in members: \n",
    "        if name in coxswain_data.index:\n",
    "            date = coxswain_data.loc[name]['Date']\n",
    "            # Some names appear twice in the coxswain rotation document, \n",
    "            # in which case the most recent date should be used.\n",
    "            if isinstance(date, pd.core.series.Series):\n",
    "                date = date.max()\n",
    "            cox_dates[name] = date\n",
    "        else:\n",
    "            # If Jaro distance is above a certain value, then the names \n",
    "            # are very similar and probably different only because of a typo \n",
    "            # or nickname.\n",
    "            # TODO: Is 0.8 a good value? Works for Mo's name... :)\n",
    "            jaro_dist_thresh = 0.8\n",
    "            found_approx_name = False\n",
    "            for cox_name in coxswain_data.index:\n",
    "                if jaro(cox_name, name) > jaro_dist_thresh:\n",
    "                    found_approx_name = True\n",
    "                    date = coxswain_data.loc[cox_name]['Date']\n",
    "                    # Some of the mispelled names might appear twice too, in which \n",
    "                    # case the latest date should be considered.\n",
    "                    if name in cox_dates and date < cox_dates[name]:\n",
    "                        continue\n",
    "                    else:\n",
    "                        cox_dates[name] = date\n",
    "            if not found_approx_name:\n",
    "                cox_dates[name] = dt.strptime('1/1/1900', '%m/%d/%Y')\n",
    "    return cox_dates\n",
    "\n",
    "cox_dates_available = get_cox_dates(availability_dict['available'], coxswain_data)\n",
    "cox_dates_maybes = get_cox_dates(availability_dict['maybe'], coxswain_data)"
   ]
  },
  {
   "cell_type": "code",
   "execution_count": null,
   "metadata": {
    "collapsed": false
   },
   "outputs": [],
   "source": [
    "import operator\n",
    "\n",
    "# Sort dictionary by the date when people last coxed.\n",
    "# Returns a list of tuples of the form (member_name, last_coxing_date).\n",
    "next_coxswains_available = sorted(cox_dates_available.items(), key=operator.itemgetter(1))\n",
    "next_coxswains_maybe = sorted(list(cox_dates_maybes.items()) + list(cox_dates_available.items()), \n",
    "                              key=operator.itemgetter(1))"
   ]
  },
  {
   "cell_type": "markdown",
   "metadata": {},
   "source": [
    "Print the names of the members coming to practice, in reverse order of their most recent coxing date."
   ]
  },
  {
   "cell_type": "code",
   "execution_count": null,
   "metadata": {
    "collapsed": false
   },
   "outputs": [],
   "source": [
    "from tabulate import tabulate\n",
    "\n",
    "def coxswains(c_list):\n",
    "    never_coxed, coxed_before = [], []\n",
    "    for c in c_list:\n",
    "        if c[1].year == 1900:\n",
    "            never_coxed.append(c[0])\n",
    "        else:\n",
    "            coxed_before.append((c[0], c[1].strftime(\"%m/%d/%Y\")))\n",
    "    return coxed_before, never_coxed\n",
    "\n",
    "def print_coxes(coxed_before, never_coxed):\n",
    "    print('People Who Coxed Before: \\n')\n",
    "    print(tabulate(coxed_before, headers=['Name', 'Date'], tablefmt='orgtbl'))\n",
    "\n",
    "    print('\\n')\n",
    "    print('People Who Never Coxed: \\n')\n",
    "    for c in never_coxed:\n",
    "        print(c)\n",
    "\n",
    "coxed_before, never_coxed = coxswains(next_coxswains_available)\n",
    "print('AVAILABLE MEMBERS ONLY:\\n')    \n",
    "print_coxes(coxed_before, never_coxed)\n",
    "\n",
    "coxed_before, never_coxed = coxswains(next_coxswains_maybe)\n",
    "print(\"\\n\\nAVAILABLE & 'MAYBE' MEMBERS:\\n\")\n",
    "print_coxes(coxed_before, never_coxed)"
   ]
  },
  {
   "cell_type": "code",
   "execution_count": null,
   "metadata": {
    "collapsed": true
   },
   "outputs": [],
   "source": []
  }
 ],
 "metadata": {
  "kernelspec": {
   "display_name": "Python 3",
   "language": "python",
   "name": "python3"
  },
  "language_info": {
   "codemirror_mode": {
    "name": "ipython",
    "version": 3
   },
   "file_extension": ".py",
   "mimetype": "text/x-python",
   "name": "python",
   "nbconvert_exporter": "python",
   "pygments_lexer": "ipython3",
   "version": "3.5.2"
  }
 },
 "nbformat": 4,
 "nbformat_minor": 0
}
